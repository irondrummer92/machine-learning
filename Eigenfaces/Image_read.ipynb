{
 "cells": [
  {
   "cell_type": "code",
   "execution_count": 66,
   "metadata": {
    "collapsed": true
   },
   "outputs": [],
   "source": [
    "import os\n",
    "from PIL import Image\n",
    "import numpy as np\n",
    "import cPickle as pk\n",
    "from sklearn.decomposition import PCA"
   ]
  },
  {
   "cell_type": "code",
   "execution_count": 2,
   "metadata": {
    "collapsed": true
   },
   "outputs": [],
   "source": [
    "# Function to recursively read images from location\n",
    "def read_images(location, imageType = (\"jpg\")):\n",
    "    \n",
    "    imageFolders = []\n",
    "    imageFiles = []\n",
    "    try:\n",
    "        fileList = os.listdir(location)\n",
    "    except OSError:\n",
    "        return imageFiles, imageFolders\n",
    "        \n",
    "    for fl in fileList:\n",
    "        \n",
    "        if fl.split(\".\")[-1] in imageType:\n",
    "            imageFiles.append(location + \"/\" + fl)\n",
    "            imageFolders.append(location.split(\"/\")[-1])\n",
    "        else:\n",
    "            subFolder = location + \"/\" + fl\n",
    "            folderSub, imageSub = read_images(subFolder)\n",
    "#             imageFiles.append(imageSub)\n",
    "#             imageFolders.append(folderSub)\n",
    "            imageFiles = imageFiles + imageSub\n",
    "            imageFolders = imageFolders + folderSub\n",
    "    \n",
    "    return imageFiles, imageFolders"
   ]
  },
  {
   "cell_type": "code",
   "execution_count": 3,
   "metadata": {
    "collapsed": true
   },
   "outputs": [],
   "source": [
    "LOCATION = 'faces94/'"
   ]
  },
  {
   "cell_type": "code",
   "execution_count": 4,
   "metadata": {
    "collapsed": true
   },
   "outputs": [],
   "source": [
    "iFiles, iFolders = read_images(LOCATION)"
   ]
  },
  {
   "cell_type": "code",
   "execution_count": 5,
   "metadata": {
    "collapsed": true
   },
   "outputs": [],
   "source": [
    "iFolders = np.array(iFolders)"
   ]
  },
  {
   "cell_type": "code",
   "execution_count": 6,
   "metadata": {
    "collapsed": true
   },
   "outputs": [],
   "source": [
    "allImages = np.empty([len(iFiles), 200, 180, 3], dtype=\"float32\")"
   ]
  },
  {
   "cell_type": "code",
   "execution_count": 7,
   "metadata": {},
   "outputs": [
    {
     "name": "stdout",
     "output_type": "stream",
     "text": [
      "0\n",
      "500\n",
      "1000\n",
      "1500\n",
      "2000\n",
      "2500\n",
      "3000\n"
     ]
    }
   ],
   "source": [
    "for i in range(len(iFiles)):\n",
    "    if(i%500 == 0):\n",
    "        print i\n",
    "    im = Image.open(iFiles[i])\n",
    "    allImages[i] = im\n",
    "    # train_images = np.append(train_images, im)\n",
    "    # train_labels = np.append(train_labels, iFolders[i])"
   ]
  },
  {
   "cell_type": "code",
   "execution_count": 8,
   "metadata": {},
   "outputs": [],
   "source": [
    "train_index = np.random.choice(a = range(len(allImages)), replace=False, size=100)"
   ]
  },
  {
   "cell_type": "code",
   "execution_count": 9,
   "metadata": {},
   "outputs": [],
   "source": [
    "train_images = allImages[train_index,:,:]\n",
    "test_index = np.setdiff1d(range(len(allImages)), train_index)\n",
    "test_images = allImages[test_index,:,:]"
   ]
  },
  {
   "cell_type": "code",
   "execution_count": 10,
   "metadata": {
    "collapsed": true
   },
   "outputs": [],
   "source": [
    "train_labels = iFolders[train_index]\n",
    "test_labels = iFolders[test_index]"
   ]
  },
  {
   "cell_type": "code",
   "execution_count": 11,
   "metadata": {},
   "outputs": [],
   "source": [
    "# Conversion to greyscale\n",
    "train_greyscale = np.mean(train_images, axis = 3)\n",
    "test_greyscale = np.mean(test_images, axis = 3)"
   ]
  },
  {
   "cell_type": "code",
   "execution_count": 12,
   "metadata": {
    "collapsed": true
   },
   "outputs": [],
   "source": [
    "train_images = None\n",
    "test_images = None\n",
    "allImages = None"
   ]
  },
  {
   "cell_type": "code",
   "execution_count": 13,
   "metadata": {
    "collapsed": true
   },
   "outputs": [],
   "source": [
    "# Compute mean face\n",
    "mean_face = np.mean(train_greyscale, axis=0)"
   ]
  },
  {
   "cell_type": "code",
   "execution_count": 14,
   "metadata": {
    "collapsed": true
   },
   "outputs": [],
   "source": [
    "mean_im = Image.fromarray(mean_face)\n",
    "mean_im.show()"
   ]
  },
  {
   "cell_type": "code",
   "execution_count": 15,
   "metadata": {
    "collapsed": true
   },
   "outputs": [],
   "source": [
    "# Convert to 1D\n",
    "train_image1d = train_greyscale.reshape([len(train_greyscale), 200*180])"
   ]
  },
  {
   "cell_type": "code",
   "execution_count": 16,
   "metadata": {
    "collapsed": true
   },
   "outputs": [],
   "source": [
    "train_image1d = train_image1d/255."
   ]
  },
  {
   "cell_type": "code",
   "execution_count": 17,
   "metadata": {},
   "outputs": [
    {
     "data": {
      "text/plain": [
       "(100, 36000)"
      ]
     },
     "execution_count": 17,
     "metadata": {},
     "output_type": "execute_result"
    }
   ],
   "source": [
    "train_image1d.shape"
   ]
  },
  {
   "cell_type": "code",
   "execution_count": 22,
   "metadata": {
    "collapsed": true
   },
   "outputs": [],
   "source": [
    "eigen_pc = PCA(n_components = 10)"
   ]
  },
  {
   "cell_type": "code",
   "execution_count": 23,
   "metadata": {
    "scrolled": true
   },
   "outputs": [
    {
     "data": {
      "text/plain": [
       "PCA(copy=True, iterated_power='auto', n_components=10, random_state=None,\n",
       "  svd_solver='auto', tol=0.0, whiten=False)"
      ]
     },
     "execution_count": 23,
     "metadata": {},
     "output_type": "execute_result"
    }
   ],
   "source": [
    "eigen_pc.fit(train_image1d)"
   ]
  },
  {
   "cell_type": "code",
   "execution_count": 24,
   "metadata": {},
   "outputs": [],
   "source": [
    "X = eigen_pc.transform(train_image1d)"
   ]
  },
  {
   "cell_type": "code",
   "execution_count": 25,
   "metadata": {
    "scrolled": true
   },
   "outputs": [
    {
     "data": {
      "text/plain": [
       "(10, 36000)"
      ]
     },
     "execution_count": 25,
     "metadata": {},
     "output_type": "execute_result"
    }
   ],
   "source": [
    "eigen_pc.components_.shape"
   ]
  },
  {
   "cell_type": "code",
   "execution_count": 26,
   "metadata": {},
   "outputs": [
    {
     "data": {
      "text/plain": [
       "(100, 10)"
      ]
     },
     "execution_count": 26,
     "metadata": {},
     "output_type": "execute_result"
    }
   ],
   "source": [
    "X.shape"
   ]
  },
  {
   "cell_type": "code",
   "execution_count": 27,
   "metadata": {
    "scrolled": true
   },
   "outputs": [
    {
     "data": {
      "text/plain": [
       "array(['9326871', '9332898', '9338462', '9338489', '9338497', '9338535',\n",
       "       '9416994', 'admars', 'ahodki', 'ajsega', 'ambarw', 'anonym',\n",
       "       'anpage', 'asewil', 'asheal', 'astefa', 'ccjame', 'cmkirk', 'cwang',\n",
       "       'dagran', 'dcbowe', 'djbirc', 'djhugh', 'dmwest', 'drbost',\n",
       "       'ekavaz', 'fordj', 'ggeorg', 'gjnorm', 'gmwate', 'gpapaz', 'gpsmit',\n",
       "       'hartb', 'hensm', 'ieorf', 'jcarte', 'jdbenm', 'jgloma', 'jlemon',\n",
       "       'jmedin', 'jrtobi', 'kaatki', 'kaknig', 'khughe', 'kjwith',\n",
       "       'klclar', 'lfso', 'lyond', 'mbutle', 'mdpove', 'mefait', 'miaduc',\n",
       "       'moors', 'mpetti', 'ndbank', 'ndhagu', 'nhrams', 'njmoor', 'npmitc',\n",
       "       'nrclar', 'nrrbar', 'pmives', 'pspliu', 'ptnich', 'rgspru', 'robin',\n",
       "       'rsanti', 'saedwa', 'sandm', 'sidick', 'smrobb', 'spacl', 'spletc',\n",
       "       'svkriz', 'swewin', 'voudcx', 'whussa', 'wjalbe'], \n",
       "      dtype='|S7')"
      ]
     },
     "execution_count": 27,
     "metadata": {},
     "output_type": "execute_result"
    }
   ],
   "source": [
    "np.unique(train_labels)"
   ]
  },
  {
   "cell_type": "code",
   "execution_count": 32,
   "metadata": {
    "scrolled": true
   },
   "outputs": [
    {
     "data": {
      "text/plain": [
       "[2904,\n",
       " 2905,\n",
       " 2906,\n",
       " 2907,\n",
       " 2908,\n",
       " 2909,\n",
       " 2910,\n",
       " 2911,\n",
       " 2912,\n",
       " 2913,\n",
       " 2914,\n",
       " 2915,\n",
       " 2916,\n",
       " 2917,\n",
       " 2918,\n",
       " 2919,\n",
       " 2920,\n",
       " 2921,\n",
       " 2922]"
      ]
     },
     "execution_count": 32,
     "metadata": {},
     "output_type": "execute_result"
    }
   ],
   "source": [
    "[i for i in range(len(test_labels)) if test_labels[i] == 'robin']"
   ]
  },
  {
   "cell_type": "code",
   "execution_count": 68,
   "metadata": {
    "collapsed": true
   },
   "outputs": [],
   "source": [
    "test_img = test_greyscale[2912].reshape(1, 36000)/255."
   ]
  },
  {
   "cell_type": "code",
   "execution_count": 82,
   "metadata": {},
   "outputs": [
    {
     "data": {
      "text/plain": [
       "'robin'"
      ]
     },
     "execution_count": 82,
     "metadata": {},
     "output_type": "execute_result"
    }
   ],
   "source": [
    "test_labels[2912]"
   ]
  },
  {
   "cell_type": "code",
   "execution_count": 83,
   "metadata": {},
   "outputs": [],
   "source": [
    "im2 = Image.fromarray(test_greyscale[2912])"
   ]
  },
  {
   "cell_type": "code",
   "execution_count": 84,
   "metadata": {
    "collapsed": true
   },
   "outputs": [],
   "source": [
    "im2.show()"
   ]
  },
  {
   "cell_type": "code",
   "execution_count": 85,
   "metadata": {
    "collapsed": true
   },
   "outputs": [],
   "source": [
    "test_pc = eigen_pc.transform(test_img)"
   ]
  },
  {
   "cell_type": "code",
   "execution_count": 86,
   "metadata": {},
   "outputs": [
    {
     "data": {
      "text/plain": [
       "(1, 10)"
      ]
     },
     "execution_count": 86,
     "metadata": {},
     "output_type": "execute_result"
    }
   ],
   "source": [
    "test_pc.shape"
   ]
  },
  {
   "cell_type": "code",
   "execution_count": 87,
   "metadata": {},
   "outputs": [],
   "source": [
    "sq_err = (X - test_pc) ** 2"
   ]
  },
  {
   "cell_type": "code",
   "execution_count": 88,
   "metadata": {},
   "outputs": [
    {
     "data": {
      "text/plain": [
       "(100, 10)"
      ]
     },
     "execution_count": 88,
     "metadata": {},
     "output_type": "execute_result"
    }
   ],
   "source": [
    "sq_err.shape"
   ]
  },
  {
   "cell_type": "code",
   "execution_count": 89,
   "metadata": {},
   "outputs": [],
   "source": [
    "dist = np.sqrt(sq_err.sum(axis=1))"
   ]
  },
  {
   "cell_type": "code",
   "execution_count": 90,
   "metadata": {},
   "outputs": [
    {
     "data": {
      "text/plain": [
       "(100,)"
      ]
     },
     "execution_count": 90,
     "metadata": {},
     "output_type": "execute_result"
    }
   ],
   "source": [
    "dist.shape"
   ]
  },
  {
   "cell_type": "code",
   "execution_count": 91,
   "metadata": {},
   "outputs": [
    {
     "data": {
      "text/plain": [
       "32"
      ]
     },
     "execution_count": 91,
     "metadata": {},
     "output_type": "execute_result"
    }
   ],
   "source": [
    "np.argmin(dist)"
   ]
  },
  {
   "cell_type": "code",
   "execution_count": 92,
   "metadata": {},
   "outputs": [
    {
     "data": {
      "text/plain": [
       "'robin'"
      ]
     },
     "execution_count": 92,
     "metadata": {},
     "output_type": "execute_result"
    }
   ],
   "source": [
    "train_labels[32]"
   ]
  },
  {
   "cell_type": "code",
   "execution_count": 96,
   "metadata": {
    "collapsed": true
   },
   "outputs": [],
   "source": [
    "imt = Image.fromarray(train_greyscale[32])\n",
    "imt.show()"
   ]
  },
  {
   "cell_type": "code",
   "execution_count": 97,
   "metadata": {},
   "outputs": [],
   "source": [
    "im2.show()"
   ]
  },
  {
   "cell_type": "code",
   "execution_count": null,
   "metadata": {
    "collapsed": true
   },
   "outputs": [],
   "source": []
  }
 ],
 "metadata": {
  "kernelspec": {
   "display_name": "Python 2",
   "language": "python",
   "name": "python2"
  },
  "language_info": {
   "codemirror_mode": {
    "name": "ipython",
    "version": 2
   },
   "file_extension": ".py",
   "mimetype": "text/x-python",
   "name": "python",
   "nbconvert_exporter": "python",
   "pygments_lexer": "ipython2",
   "version": "2.7.13"
  }
 },
 "nbformat": 4,
 "nbformat_minor": 2
}
