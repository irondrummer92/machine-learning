{
 "cells": [
  {
   "cell_type": "markdown",
   "metadata": {},
   "source": [
    "Tic Tac Toe"
   ]
  },
  {
   "cell_type": "code",
   "execution_count": 6,
   "metadata": {
    "collapsed": true
   },
   "outputs": [],
   "source": [
    "import numpy as np"
   ]
  },
  {
   "cell_type": "code",
   "execution_count": 7,
   "metadata": {
    "collapsed": true
   },
   "outputs": [],
   "source": [
    "def getAdjacent(coordinate2D):\n",
    "    \n",
    "    \"\"\"Gets adjacent locations for a given location\"\"\"\n",
    "    \n",
    "    return np.add(coordinate2D, [[0,1],[1,0],[1,1],[-1,-1],[1,-1],[0,-1],[-1,1],[-1,0]])"
   ]
  },
  {
   "cell_type": "code",
   "execution_count": 8,
   "metadata": {
    "collapsed": true
   },
   "outputs": [],
   "source": [
    "symbolArray = [\"X\",\"O\"]"
   ]
  },
  {
   "cell_type": "code",
   "execution_count": 261,
   "metadata": {
    "collapsed": false
   },
   "outputs": [],
   "source": [
    "class fixedPlayer(object):\n",
    "    \n",
    "    \"\"\"A fixed evaluator program\"\"\"\n",
    "    \n",
    "    def __init__(self, symbol):\n",
    "        \n",
    "        \"\"\"Player either places a X or O depending on the initialized option\"\"\"\n",
    "        \n",
    "        self.symbol = symbol\n",
    "        \n",
    "    def chooseMove(self, boardStatus):\n",
    "        \n",
    "        \"\"\"The player chooses its move based on what the board looks like.\n",
    "        First, it gets all possible blank spaces\"\"\"\n",
    "        \n",
    "        # Board status is an array with 3x3 size\n",
    "        \n",
    "        # Choosing locations from available positions depends on the following rules:\n",
    "        # 1. If next choice means endgame, game will choose it unconditionally\n",
    "        # 2. If the next move of opponent leads to endgame, the player chooses against it unconditionally\n",
    "        # 3. If already symbol is present, it will randomly choose a nearby location in same row, \n",
    "        # column or diagonal\n",
    "        # 4. Failing the above 4 it reverts to a random choice (Usually in the beginning of a game)\n",
    "        \n",
    "        # Check if player has not placed a pawn and get opponent status\n",
    "        # emptyLocations = [[i,j] for i in range(3) for j in range(3) if boardStatus[i][j] == '']\n",
    "        # playerFilledLocations = [[i,j] for i in range(3) for j in range(3) if boardStatus[i][j] == self.symbol]\n",
    "        opponentSymbol = symbolArray[1 - symbolArray.index(self.symbol)]\n",
    "        \n",
    "        possibleLocations = []\n",
    "        riskLocations = []\n",
    "        \n",
    "        # Check if rows have any case completion if board is not empty\n",
    "        if(len(boardStatus != '') > 0):\n",
    "            for i in range(3):\n",
    "                boardRow = boardStatus[i,:]\n",
    "                boardCol = boardStatus[:,i]\n",
    "                \n",
    "                # If row has 2 of your symbols and one empty slot\n",
    "                if((sum(boardRow == self.symbol) == 2) & (sum(boardRow == '') == 1)):\n",
    "                    return([i,np.where(boardRow == '')[0][0]])\n",
    "                elif((sum(boardRow == opponentSymbol) == 2) & (sum(boardRow == '') == 1)):\n",
    "                    riskLocations.append([i,np.where(boardRow == '')[0][0]])\n",
    "                elif((sum(boardRow == self.symbol) == 1) & (sum(boardRow == '') == 2)):\n",
    "                    possibleLocations.append([i, np.where(boardRow == '')[0][0]])\n",
    "                    possibleLocations.append([i, np.where(boardRow == '')[0][1]])\n",
    "                    \n",
    "                \n",
    "                # If columns has 2 of your symbols and one empty slot\n",
    "                if((sum(boardCol == self.symbol) == 2) & (sum(boardCol == '') == 1)):\n",
    "                    return([np.where(boardCol == '')[0][0],i])\n",
    "                elif((sum(boardCol == opponentSymbol) == 2) & (sum(boardCol == '') == 1)):\n",
    "                    riskLocations.append([np.where(boardCol == '')[0][0],i])\n",
    "                elif((sum(boardCol == self.symbol) == 1) & (sum(boardCol == '') == 2)):\n",
    "                    possibleLocations.append([np.where(boardCol == '')[0][0],i])\n",
    "                    possibleLocations.append([np.where(boardCol == '')[0][1],i])\n",
    "            \n",
    "            # Check if the same is happening on diagonals\n",
    "            boardDiagonal1 = boardStatus.diagonal()\n",
    "            # If primary diagonal has 2 of your symbols and one empty slot\n",
    "            if((sum(boardDiagonal1 == self.symbol) == 2) \\\n",
    "               & (sum(boardDiagonal1 == '') == 1)):\n",
    "                i = np.where(boardDiagonal1 == '')[0][0]\n",
    "                return([i,i])\n",
    "            elif((sum(boardDiagonal1 == opponentSymbol) == 2) \\\n",
    "                 & (sum(boardDiagonal1 == '') == 1)):\n",
    "                i = np.where(boardDiagonal1 == '')[0][0]\n",
    "                riskLocations.append([i,i])\n",
    "            elif((sum(boardDiagonal1 == self.symbol) == 1) \\\n",
    "                 & (sum(boardDiagonal1 == '') == 2)):\n",
    "                i = np.where(boardDiagonal1 == '')[0][0]\n",
    "                j = np.where(boardDiagonal1 == '')[0][1]\n",
    "                possibleLocations.append([i,i])\n",
    "                possibleLocations.append([j,j])\n",
    "            \n",
    "            \n",
    "            # Check if the same is happening on diagonals\n",
    "            boardDiagonal2 = np.fliplr(boardStatus).diagonal()\n",
    "            # If primary diagonal has 2 of your symbols and one empty slot\n",
    "            if((sum(boardDiagonal2 == self.symbol) == 2) \\\n",
    "               & (sum(boardDiagonal2 == '') == 1)):\n",
    "                i = np.where(boardDiagonal2 == '')[0][0]\n",
    "                return(i,2-i)\n",
    "            elif((sum(boardDiagonal2 == opponentSymbol) == 2) \\\n",
    "                 & (sum(boardDiagonal2 == '') == 1)):\n",
    "                i = np.where(boardDiagonal2 == '')[0][0]\n",
    "                riskLocations.append(i,2-i)\n",
    "            elif((sum(boardDiagonal2 == self.symbol) == 1) \\\n",
    "                 & (sum(boardDiagonal2 == '') == 2)):\n",
    "                i = np.where(boardDiagonal2 == '')[0][0]\n",
    "                j = np.where(boardDiagonal2 == '')[0][1]\n",
    "                possibleLocations.append([i,2-i])\n",
    "                possibleLocations.append([j,2-j])\n",
    "            \n",
    "            # After checking for best possible locations, if location is not avaiable,\n",
    "            # it chooses a random empty slot\n",
    "            # First update for risk locations\n",
    "            \n",
    "            \n",
    "            if(len(riskLocations) > 0):\n",
    "                return riskLocations[np.random.choice(range(len(riskLocations)))]\n",
    "            \n",
    "            if(len(possibleLocations) > 0):\n",
    "                return possibleLocations[np.random.choice(range(len(possibleLocations)))]\n",
    "            else:\n",
    "                emptyLocations = [[i,j] for i in range(3) for j in range(3) if boardStatus[i][j] == '']\n",
    "                return emptyLocations[np.random.choice(range(len(emptyLocations)))]\n",
    "            \n",
    "        # If board is empty, player chooses random slot\n",
    "        else:\n",
    "            allLocations = np.random.choice([[i,j] for i in range(3) for j in range(3)])            \n",
    "            return allLocations[np.random.choice(range(len(allLocations)))]"
   ]
  },
  {
   "cell_type": "code",
   "execution_count": 262,
   "metadata": {
    "collapsed": true
   },
   "outputs": [],
   "source": [
    "class manualPlayer(object):\n",
    "    \n",
    "    def __init__(self, symbol):\n",
    "        self.symbol = symbol\n",
    "    \n",
    "    # Asks user for an input\n",
    "    def chooseMove(self, boardStatus):\n",
    "        position = raw_input(\"Enter your choice: \").split(\" \")\n",
    "        position = map(int, position)\n",
    "        return position"
   ]
  },
  {
   "cell_type": "code",
   "execution_count": 263,
   "metadata": {
    "collapsed": true
   },
   "outputs": [],
   "source": [
    "class gameBoard(object):\n",
    "    \n",
    "    \"\"\"Game board\"\"\"\n",
    "    \n",
    "    def __init__(self):\n",
    "        # Board with all empty positions\n",
    "        self.boardStatus = np.array(['' for i in range(9)]).reshape(3,3)\n",
    "        \n",
    "    def updateStatus(self, position, symbol):\n",
    "        \n",
    "        print position\n",
    "        \n",
    "        # Check if position is already occupied with X or O\n",
    "        # position is a 2D \n",
    "        if(self.boardStatus[position[0]][position[1]] in [\"X\",\"O\"]):\n",
    "            # Returns invalid status\n",
    "            return 0\n",
    "        else:\n",
    "            # Update boardstatus\n",
    "            self.boardStatus[position[0]][position[1]] = symbol\n",
    "            return 1"
   ]
  },
  {
   "cell_type": "code",
   "execution_count": 264,
   "metadata": {
    "collapsed": true
   },
   "outputs": [],
   "source": [
    "class tictactoeGame(object):\n",
    "    \n",
    "    \"\"\"A game AI that starts with 2 plays till game is over\"\"\"\n",
    "    \n",
    "    def __init__(self, playerType1, playerType2):\n",
    "        \n",
    "        if(playerType1 == \"manual\"):\n",
    "            self.p1 = manualPlayer(symbol = \"X\")\n",
    "        elif(playerType1 == \"ai\"):\n",
    "            self.p1 = aiPlayer(symbol = \"X\")\n",
    "        elif(playeType1 == \"fixed\"):\n",
    "            self.p1 = fixedPlayer(symbol= \"X\")\n",
    "        \n",
    "        if(playerType2 == \"manual\"):\n",
    "            self.p2 = manualPlayer(symbol = \"O\")\n",
    "        elif(playerType2 == \"ai\"):\n",
    "            self.p2 = aiPlayer(symbol = \"O\")\n",
    "        elif(playerType2 == \"fixed\"):\n",
    "            self.p2 = fixedPlayer(symbol= \"O\")\n",
    "            \n",
    "        self.board = gameBoard()\n",
    "        \n",
    "    def checkWinState(self, symbol):\n",
    "        \n",
    "        for i in range(3):\n",
    "            \n",
    "            boardRow = self.board.boardStatus[i,:]\n",
    "            boardCol = self.board.boardStatus[:,i]\n",
    "            \n",
    "            if(sum(boardRow == symbol) == 3):\n",
    "                return 1\n",
    "            if(sum(boardCol == symbol) == 3):\n",
    "                return 1\n",
    "        \n",
    "        boardDiagonal1 = self.board.boardStatus.diagonal()\n",
    "        boardDiagonal2 = np.fliplr(self.board.boardStatus).diagonal()\n",
    "        \n",
    "        if(sum(boardDiagonal1 == symbol) == 3):\n",
    "            return 1\n",
    "        if(sum(boardDiagonal2 == symbol) == 3):\n",
    "            return 1\n",
    "        \n",
    "        if(len([1 for i in range(3) for j in range(3) if self.board.boardStatus[i,j] == '']) == 0):\n",
    "            return 2\n",
    "        return 0\n",
    "        \n",
    "            \n",
    "    def playGame(self):\n",
    "\n",
    "        # Game asks for input from player 1, updates boardStatus and then checks for winstate\n",
    "        # if not winning, then it proceeds to get input from player 2,\n",
    "        # updates board and then checks for winstate\n",
    "        \n",
    "        # Run till game ends\n",
    "        endState = 0\n",
    "        \n",
    "        while(not endState):\n",
    "            \n",
    "            print self.board.boardStatus\n",
    "            \n",
    "            # Repeat till user makes valid choice\n",
    "            validChoice1 = 0\n",
    "            validChoice2 = 0\n",
    "            \n",
    "            while(not validChoice1):\n",
    "                \n",
    "                p1Choice = self.p1.chooseMove(self.board.boardStatus)\n",
    "                validChoice1 = self.board.updateStatus(p1Choice, self.p1.symbol)\n",
    "                \n",
    "            endState = self.checkWinState(\"X\")\n",
    "            \n",
    "            if(endState == 2):\n",
    "                print self.board.boardStatus\n",
    "                return \"Match Drawn\"\n",
    "            elif(endState == 1):\n",
    "                print self.board.boardStatus\n",
    "                return \"Player 1 Has Won\"\n",
    "            \n",
    "            print self.board.boardStatus\n",
    "        \n",
    "            while(not validChoice2):\n",
    "                \n",
    "                p2Choice = self.p2.chooseMove(self.board.boardStatus)\n",
    "                validChoice2 = self.board.updateStatus(p2Choice, self.p2.symbol)\n",
    "                \n",
    "            endState = self.checkWinState(\"O\")\n",
    "            \n",
    "            if(endState == 2):\n",
    "                print self.board.boardStatus\n",
    "                return \"Match Drawn\"\n",
    "            elif(endState == 1):\n",
    "                print self.board.boardStatus\n",
    "                return \"Player 2 Has Won\""
   ]
  },
  {
   "cell_type": "code",
   "execution_count": 265,
   "metadata": {
    "collapsed": false
   },
   "outputs": [],
   "source": [
    "game1 = tictactoeGame(playerType1=\"manual\",playerType2=\"fixed\")"
   ]
  },
  {
   "cell_type": "code",
   "execution_count": 266,
   "metadata": {
    "collapsed": false
   },
   "outputs": [
    {
     "name": "stdout",
     "output_type": "stream",
     "text": [
      "[['' '' '']\n",
      " ['' '' '']\n",
      " ['' '' '']]\n",
      "Enter your choice: 0 0\n",
      "[0, 0]\n",
      "[['X' '' '']\n",
      " ['' '' '']\n",
      " ['' '' '']]\n",
      "[1, 1]\n",
      "[['X' '' '']\n",
      " ['' 'O' '']\n",
      " ['' '' '']]\n",
      "Enter your choice: 2 2\n",
      "[2, 2]\n",
      "[['X' '' '']\n",
      " ['' 'O' '']\n",
      " ['' '' 'X']]\n",
      "[0, 2]\n",
      "[['X' '' 'O']\n",
      " ['' 'O' '']\n",
      " ['' '' 'X']]\n",
      "Enter your choice: 1 2\n",
      "[1, 2]\n",
      "[['X' '' 'O']\n",
      " ['' 'O' 'X']\n",
      " ['' '' 'X']]\n",
      "(2, 0)\n",
      "[['X' '' 'O']\n",
      " ['' 'O' 'X']\n",
      " ['O' '' 'X']]\n"
     ]
    },
    {
     "data": {
      "text/plain": [
       "'Player 2 Has Won'"
      ]
     },
     "execution_count": 266,
     "metadata": {},
     "output_type": "execute_result"
    }
   ],
   "source": [
    "game1.playGame()"
   ]
  },
  {
   "cell_type": "code",
   "execution_count": null,
   "metadata": {
    "collapsed": true
   },
   "outputs": [],
   "source": []
  }
 ],
 "metadata": {
  "kernelspec": {
   "display_name": "Python 2",
   "language": "python",
   "name": "python2"
  },
  "language_info": {
   "codemirror_mode": {
    "name": "ipython",
    "version": 2
   },
   "file_extension": ".py",
   "mimetype": "text/x-python",
   "name": "python",
   "nbconvert_exporter": "python",
   "pygments_lexer": "ipython2",
   "version": "2.7.12"
  }
 },
 "nbformat": 4,
 "nbformat_minor": 2
}
