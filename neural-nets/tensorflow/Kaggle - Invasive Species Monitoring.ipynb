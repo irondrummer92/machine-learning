{
 "cells": [
  {
   "cell_type": "markdown",
   "metadata": {},
   "source": [
    "<h2 align = \"center\">Kaggle Invasive Species Monitoring </h2>\n",
    "<div align = \"center\"><b>Author:</b> Ishwar M<br /><b>Date:</b> 30th May, 2017</div>"
   ]
  },
  {
   "cell_type": "markdown",
   "metadata": {},
   "source": [
    "#### Design of learning algorithm:\n",
    "\n",
    "- First stage utilizes a pre-trained VGG net from the ImageNet challenge. Only the convolutional layers are used from the VGG net\n",
    "- Second stage is a regression head consisting of 2 layer FCN. FCN has 400 units and finally only one output denoting the probability of the species being invasive is extracted"
   ]
  },
  {
   "cell_type": "code",
   "execution_count": 1,
   "metadata": {
    "collapsed": true
   },
   "outputs": [],
   "source": [
    "from PIL import Image as img\n",
    "from matplotlib import pyplot as plt\n",
    "import numpy as np\n",
    "import tensorflow as tf\n",
    "import pickle as pk\n",
    "import time\n",
    "import pandas as pd\n",
    "%matplotlib inline"
   ]
  },
  {
   "cell_type": "markdown",
   "metadata": {},
   "source": [
    "#### Fitting image to 224x224 for VGG nets"
   ]
  },
  {
   "cell_type": "code",
   "execution_count": 2,
   "metadata": {
    "collapsed": true
   },
   "outputs": [],
   "source": [
    "# train_images = np.empty(dtype='uint8',shape = [0,224,224,3])\n",
    "# for i in range(2295):\n",
    "#     if((i+1) % 500 == 0):\n",
    "#         print (i+1)\n",
    "#     im = img.open('/home/ishwar/workspace/Data/Invasive Species Monitoring/train/' + str(i + 1) + '.jpg')\n",
    "#     im = im.resize(size=(224,224))\n",
    "#     train_images = np.append(train_images,[np.asarray(im)],axis=0)\n",
    "#     im = None\n",
    "# pk.dump(train_images,open( \"train_resize\", \"wb\" ))"
   ]
  },
  {
   "cell_type": "code",
   "execution_count": 3,
   "metadata": {
    "collapsed": true
   },
   "outputs": [],
   "source": [
    "# Loading pickled image data. Preprocessing using the code above\n",
    "fo = open(\"/home/ishwar/workspace/notebooks/train_resize\",\"rb\")\n",
    "train_images = pk.load(file=fo)"
   ]
  },
  {
   "cell_type": "code",
   "execution_count": 4,
   "metadata": {
    "collapsed": true
   },
   "outputs": [],
   "source": [
    "# Convert from RGB to 0-1\n",
    "train_images = train_images/255."
   ]
  },
  {
   "cell_type": "code",
   "execution_count": 5,
   "metadata": {
    "collapsed": true
   },
   "outputs": [],
   "source": [
    "# Import labels for train\n",
    "train_labels = np.loadtxt(fname='/home/ishwar/workspace/Data/Invasive Species Monitoring/train_labels.csv',\n",
    "                          delimiter=\",\", skiprows = 1)\n",
    "train_labels = np.array(train_labels[:,1]).reshape(2295,1)"
   ]
  },
  {
   "cell_type": "markdown",
   "metadata": {},
   "source": [
    "Global constants. Initial plan is to train only the FC layers. Initial attempt with LEARN_RATE = 1e-5 for 500 iterations provided 91% accuracy"
   ]
  },
  {
   "cell_type": "code",
   "execution_count": 6,
   "metadata": {
    "collapsed": true
   },
   "outputs": [],
   "source": [
    "# Global constants\n",
    "NUM_ITERATIONS = 1000\n",
    "BATCH_SIZE = 10\n",
    "LEARN_RATE = 1e-5\n",
    "INPUT_LENGTH = len(train_images)\n",
    "STEP_ERROR = 50\n",
    "LAMBDA_REG = 1e-5"
   ]
  },
  {
   "cell_type": "code",
   "execution_count": 7,
   "metadata": {
    "collapsed": true
   },
   "outputs": [],
   "source": [
    "# Start an interactive session\n",
    "sess = tf.InteractiveSession()"
   ]
  },
  {
   "cell_type": "code",
   "execution_count": 8,
   "metadata": {
    "collapsed": true
   },
   "outputs": [],
   "source": [
    "# Convolution with same padding\n",
    "def conv2d(x,W):\n",
    "    return(tf.nn.conv2d(x,W,strides = [1,1,1,1],padding='SAME'))\n",
    "\n",
    "# 2x2 pooling\n",
    "def max_pool2d(x):\n",
    "\n",
    "    return(tf.nn.max_pool(x,ksize=[1,2,2,1],strides=[1,2,2,1],padding='SAME'))"
   ]
  },
  {
   "cell_type": "code",
   "execution_count": 9,
   "metadata": {
    "collapsed": true
   },
   "outputs": [],
   "source": [
    "# Initializer functions for weight and bias\n",
    "def weight_initialization(shape):\n",
    "    initial = tf.random_normal(shape=shape, stddev=0.01) * 2/np.sqrt(shape[0] * shape[1])\n",
    "    return(tf.Variable(initial))\n",
    "\n",
    "def bias_variable(shape):\n",
    "    initial = tf.constant(shape=shape,value= 0.1)\n",
    "    return(tf.Variable(initial))"
   ]
  },
  {
   "cell_type": "code",
   "execution_count": 10,
   "metadata": {
    "collapsed": true
   },
   "outputs": [],
   "source": [
    "# Loading ImageNet weights for VGG16 network\n",
    "netWeights = np.load(file='/home/ishwar/workspace/Data/Invasive Species Monitoring/vgg16_weights.npz')"
   ]
  },
  {
   "cell_type": "code",
   "execution_count": 11,
   "metadata": {},
   "outputs": [
    {
     "name": "stdout",
     "output_type": "stream",
     "text": [
      "['conv4_3_W', 'conv5_1_b', 'conv1_2_b', 'conv5_2_b', 'conv1_1_W', 'conv5_3_b', 'conv5_2_W', 'conv5_3_W', 'conv1_1_b', 'fc7_b', 'conv5_1_W', 'conv1_2_W', 'conv3_2_W', 'conv4_2_b', 'conv4_1_b', 'conv3_3_W', 'conv2_1_b', 'conv3_1_b', 'conv2_2_W', 'fc6_b', 'fc8_b', 'conv4_3_b', 'conv2_2_b', 'fc6_W', 'fc8_W', 'fc7_W', 'conv3_2_b', 'conv4_2_W', 'conv3_3_b', 'conv3_1_W', 'conv2_1_W', 'conv4_1_W']\n"
     ]
    }
   ],
   "source": [
    "print netWeights.keys()"
   ]
  },
  {
   "cell_type": "code",
   "execution_count": 12,
   "metadata": {
    "collapsed": true
   },
   "outputs": [],
   "source": [
    "# Passing the training images through the VGG network\n",
    "# initialize the Image array and output class variable\n",
    "x = tf.placeholder(tf.float32,shape = [None,224,224,3])\n",
    "y = tf.placeholder(tf.float32,shape = [None,1])"
   ]
  },
  {
   "cell_type": "code",
   "execution_count": 13,
   "metadata": {
    "collapsed": true
   },
   "outputs": [],
   "source": [
    "# Using VGG network, Initializing weights from the dictionary object imported\n",
    "# Declared as constants since VGG need not be retrained\n",
    "\n",
    "# Layer 1\n",
    "W1_1 = tf.constant(netWeights[\"conv1_1_W\"])\n",
    "b1_1 = tf.constant(netWeights[\"conv1_1_b\"])\n",
    "\n",
    "W1_2 = tf.constant(netWeights[\"conv1_2_W\"])\n",
    "b1_2 = tf.constant(netWeights[\"conv1_2_b\"])\n",
    "\n",
    "# Layer 2\n",
    "W2_1 = tf.constant(netWeights[\"conv2_1_W\"])\n",
    "b2_1 = tf.constant(netWeights[\"conv2_1_b\"])\n",
    "\n",
    "W2_2 = tf.constant(netWeights[\"conv2_2_W\"])\n",
    "b2_2 = tf.constant(netWeights[\"conv2_2_b\"])\n",
    "\n",
    "# Layer 3\n",
    "W3_1 = tf.constant(netWeights[\"conv3_1_W\"])\n",
    "b3_1 = tf.constant(netWeights[\"conv3_1_b\"])\n",
    "\n",
    "W3_2 = tf.constant(netWeights[\"conv3_2_W\"])\n",
    "b3_2 = tf.constant(netWeights[\"conv3_2_b\"])\n",
    "\n",
    "W3_3 = tf.constant(netWeights[\"conv3_3_W\"])\n",
    "b3_3 = tf.constant(netWeights[\"conv3_3_b\"])\n",
    "\n",
    "# Layer 4\n",
    "W4_1 = tf.constant(netWeights[\"conv4_1_W\"])\n",
    "b4_1 = tf.constant(netWeights[\"conv4_1_b\"])\n",
    "\n",
    "W4_2 = tf.constant(netWeights[\"conv4_2_W\"])\n",
    "b4_2 = tf.constant(netWeights[\"conv4_2_b\"])\n",
    "\n",
    "W4_3 = tf.constant(netWeights[\"conv4_3_W\"])\n",
    "b4_3 = tf.constant(netWeights[\"conv4_3_b\"])\n",
    "\n",
    "# Layer 5\n",
    "W5_1 = tf.constant(netWeights[\"conv5_1_W\"])\n",
    "b5_1 = tf.constant(netWeights[\"conv5_1_b\"])\n",
    "\n",
    "W5_2 = tf.constant(netWeights[\"conv5_2_W\"])\n",
    "b5_2 = tf.constant(netWeights[\"conv5_2_b\"])\n",
    "\n",
    "W5_3 = tf.constant(netWeights[\"conv5_3_W\"])\n",
    "b5_3 = tf.constant(netWeights[\"conv5_3_b\"])"
   ]
  },
  {
   "cell_type": "code",
   "execution_count": 14,
   "metadata": {
    "collapsed": true
   },
   "outputs": [],
   "source": [
    "# FC Layers to be trained\n",
    "\n",
    "# 1st FC layer\n",
    "W6_1 = weight_initialization(shape=[25088,400])\n",
    "b6_1 = bias_variable(shape=[400])\n",
    "\n",
    "# 2nd FC layer\n",
    "W6_2 = weight_initialization(shape=[400,400])\n",
    "b6_2 = bias_variable(shape=[400])\n",
    "\n",
    "# Finaly layer to extract probabilites\n",
    "W6_3 = weight_initialization(shape=[400,1])\n",
    "b6_3 = bias_variable(shape=[1])"
   ]
  },
  {
   "cell_type": "code",
   "execution_count": 15,
   "metadata": {
    "collapsed": true
   },
   "outputs": [],
   "source": [
    "# VGG network operations\n",
    "\n",
    "# Convolution layer 1 has 2 filters with 3x3 convolutions of depth 64\n",
    "\n",
    "# W1_1 - [3,3,3,64]\n",
    "# b1_1 - [64,]\n",
    "h_conv1_1 = tf.nn.relu(conv2d(x, W1_1) + b1_1)\n",
    "\n",
    "# W1_2 - [3,3,64,64]\n",
    "# b1_2 - [64,]\n",
    "h_conv1_2 = tf.nn.relu(conv2d(h_conv1_1, W1_2) + b1_2)\n",
    "\n",
    "# Pooling layer 1\n",
    "h_pool1 = max_pool2d(h_conv1_2)\n",
    "\n",
    "# Convolution layer 2. Has two convolution filters with size 3x3 and depth 128\n",
    "\n",
    "# W2_1 - [3,3,64,128]\n",
    "# b2_1 - [128,]\n",
    "h_conv2_1 = tf.nn.relu(conv2d(h_pool1, W2_1) + b2_1)\n",
    "\n",
    "# W2_2 - [3,3,128,128]\n",
    "# b2_2 - [128,]\n",
    "h_conv2_2 = tf.nn.relu(conv2d(h_conv2_1, W2_2) + b2_2)\n",
    "\n",
    "# Pooling layer 2\n",
    "h_pool2 = max_pool2d(h_conv2_2)\n",
    "\n",
    "# Convolution layer 3. Has 3 convolution filters of size 3x3 and depth 256\n",
    "\n",
    "# W3_1 - [3,3,128,256]\n",
    "# b3_1 - [256,]\n",
    "h_conv3_1 = tf.nn.relu(conv2d(h_pool2, W3_1) + b3_1)\n",
    "\n",
    "# W3_2 - [3,3,256,256]\n",
    "# b3_2 - [256,]\n",
    "h_conv3_2 = tf.nn.relu(conv2d(h_conv3_1, W3_2) + b3_2)\n",
    "\n",
    "# W3_3 - [3,3,256,256]\n",
    "# b3_3 - [256,]\n",
    "h_conv3_3 = tf.nn.relu(conv2d(h_conv3_2, W3_3) + b3_3)\n",
    "\n",
    "# Pooling layer 3\n",
    "h_pool3 = max_pool2d(h_conv3_3)\n",
    "\n",
    "# Convolution layer 4. Has 3 convolution layers of size 3x3 and depth 512\n",
    "\n",
    "# W4_1 - [3,3,256,512]\n",
    "# b4_1 - [512,]\n",
    "h_conv4_1 = tf.nn.relu(conv2d(h_pool3, W4_1) + b4_1)\n",
    "\n",
    "# W4_2 - [3,3,512,512]\n",
    "# b4_2 - [512,]\n",
    "h_conv4_2 = tf.nn.relu(conv2d(h_conv4_1, W4_2) + b4_2)\n",
    "\n",
    "# W4_3 - [3,3,512,512]\n",
    "# b4_3 - [512,]\n",
    "h_conv4_3 = tf.nn.relu(conv2d(h_conv4_2, W4_3) + b4_3)\n",
    "\n",
    "# Pooling layer 4\n",
    "h_pool4 = max_pool2d(h_conv4_3)\n",
    "\n",
    "# Convolution layer 5. Has 3 convolution layers of size 3x3 and depth 512\n",
    "\n",
    "# W5_1 - [3,3,512,512]\n",
    "# b5_1 - [512,]\n",
    "h_conv5_1 = tf.nn.relu(conv2d(h_pool4, W5_1) + b5_1)\n",
    "\n",
    "# W5_2 - [3,3,512,512]\n",
    "# b5_2 - [512,]\n",
    "h_conv5_2 = tf.nn.relu(conv2d(h_conv5_1, W5_2) + b5_2)\n",
    "\n",
    "# W5_1 - [3,3,512,512]\n",
    "# b5_1 - [512,]\n",
    "h_conv5_3 = tf.nn.relu(conv2d(h_conv5_2, W5_3) + b5_3)\n",
    "\n",
    "# Pooling layer 4\n",
    "h_pool5 = max_pool2d(h_conv5_3)"
   ]
  },
  {
   "cell_type": "code",
   "execution_count": 16,
   "metadata": {
    "collapsed": true
   },
   "outputs": [],
   "source": [
    "# Adding FC layers to the top. Reshape to fit FC layer\n",
    "vgg_out = tf.reshape(h_pool5,shape=[-1, 7*7*512])\n",
    "\n",
    "# FC Layer 1 (25088 x 4096)\n",
    "h_fc6_1 = tf.nn.relu(tf.matmul(vgg_out, W6_1) + b6_1)\n",
    "\n",
    "# Adding dropout\n",
    "keep_prob = tf.placeholder(tf.float32)\n",
    "h_fc6_1_drop = tf.nn.dropout(h_fc6_1, keep_prob)\n",
    "\n",
    "# FC Layer 2 (4096 x 4096)\n",
    "h_fc6_2 = tf.nn.relu(tf.matmul(h_fc6_1_drop, W6_2) + b6_2)\n",
    "# Adding dropout\n",
    "h_fc6_2_drop = tf.nn.dropout(h_fc6_2, keep_prob)\n",
    "\n",
    "# Final Layer\n",
    "y_out = tf.nn.relu(tf.matmul(h_fc6_2_drop, W6_3) + b6_3)"
   ]
  },
  {
   "cell_type": "code",
   "execution_count": 17,
   "metadata": {
    "collapsed": true
   },
   "outputs": [],
   "source": [
    "# Defining the loss function\n",
    "loss = (y - y_out) ** 2\n",
    "loss = tf.reduce_sum(loss)"
   ]
  },
  {
   "cell_type": "code",
   "execution_count": 18,
   "metadata": {
    "collapsed": true
   },
   "outputs": [],
   "source": [
    "W6_1_reg = tf.reduce_sum(W6_1 ** 2)\n",
    "W6_2_reg = tf.reduce_sum(W6_2 ** 2)\n",
    "W6_3_reg = tf.reduce_sum(W6_3 ** 2)\n",
    "l2_reg = W6_1_reg + W6_2_reg + W6_3_reg"
   ]
  },
  {
   "cell_type": "code",
   "execution_count": 19,
   "metadata": {
    "collapsed": true
   },
   "outputs": [],
   "source": [
    "total_loss = loss + LAMBDA_REG * l2_reg"
   ]
  },
  {
   "cell_type": "code",
   "execution_count": 20,
   "metadata": {
    "collapsed": true
   },
   "outputs": [],
   "source": [
    "# Adam Optimizer with all default settings\n",
    "optim = tf.train.AdamOptimizer(learning_rate=LEARN_RATE)\n",
    "train_step = optim.minimize(total_loss)"
   ]
  },
  {
   "cell_type": "code",
   "execution_count": 21,
   "metadata": {
    "collapsed": true
   },
   "outputs": [],
   "source": [
    "sess.run(tf.global_variables_initializer())"
   ]
  },
  {
   "cell_type": "code",
   "execution_count": null,
   "metadata": {
    "collapsed": true
   },
   "outputs": [],
   "source": [
    "y_loss = np.empty(dtype = 'float16',shape = [0,1])"
   ]
  },
  {
   "cell_type": "code",
   "execution_count": 28,
   "metadata": {
    "scrolled": true
   },
   "outputs": [
    {
     "name": "stdout",
     "output_type": "stream",
     "text": [
      "step 0, training loss 1.05428 Regularization loss 19.8364\n",
      "step 50, training loss 1.76958 Regularization loss 20.2991\n",
      "step 100, training loss 0.725271 Regularization loss 20.7244\n",
      "step 150, training loss 0.482401 Regularization loss 21.1119\n"
     ]
    }
   ],
   "source": [
    "# Running the training algorithm with Adam optimization for the network\n",
    "for i in range(200):\n",
    "    \n",
    "    # Mini batch selection\n",
    "    batch = np.random.choice(range(INPUT_LENGTH),replace = False, size = BATCH_SIZE)\n",
    "    batch_input = train_images[batch,:,:,:]\n",
    "    batch_labels = train_labels[batch]\n",
    "    \n",
    "    if(i % STEP_ERROR == 0):\n",
    "        \n",
    "        train_loss = loss.eval(feed_dict={\n",
    "            x:batch_input, y: batch_labels, keep_prob: 1})\n",
    "        \n",
    "        y_loss = np.append(y_loss,train_loss)\n",
    "        \n",
    "        reg_loss = l2_reg.eval()\n",
    "        \n",
    "        print(\"step %d, training loss %g Regularization loss %g\"%(i, train_loss, reg_loss))\n",
    "        \n",
    "    train_step.run(feed_dict={x:batch_input, y:batch_labels, keep_prob:0.5})"
   ]
  },
  {
   "cell_type": "code",
   "execution_count": 30,
   "metadata": {},
   "outputs": [
    {
     "data": {
      "image/png": "[encoded data removed]",
      "text/plain": [
       "<matplotlib.figure.Figure at 0x7f9882bb2990>"
      ]
     },
     "metadata": {},
     "output_type": "display_data"
    }
   ],
   "source": [
    "plt.plot(y_loss)\n",
    "plt.show()"
   ]
  },
  {
   "cell_type": "code",
   "execution_count": null,
   "metadata": {
    "collapsed": true
   },
   "outputs": [],
   "source": [
    "# Loading and predicting on test data\n",
    "# test_images = np.empty(dtype='uint8',shape = [0,224,224,3])\n",
    "# for i in range(1531):\n",
    "#     if((i+1) % 500 == 0):\n",
    "#         print (i+1)\n",
    "#     im = img.open('/home/ishwar/workspace/Data/Invasive Species Monitoring/test/' + str(i + 1) + '.jpg')\n",
    "#     im = im.resize(size=(224,224))\n",
    "#     test_images = np.append(test_images,[np.asarray(im)],axis=0)\n",
    "#     im = None\n",
    "# pk.dump(test_images,open( \"test_resize\", \"wb\" ))"
   ]
  },
  {
   "cell_type": "code",
   "execution_count": 31,
   "metadata": {
    "collapsed": true
   },
   "outputs": [],
   "source": [
    "# Loading pickled image data\n",
    "fo = open(\"/home/ishwar/workspace/notebooks/test_resize\",\"rb\")\n",
    "test_images = pk.load(file=fo)"
   ]
  },
  {
   "cell_type": "code",
   "execution_count": 32,
   "metadata": {
    "collapsed": true
   },
   "outputs": [],
   "source": [
    "test_images = test_images/255."
   ]
  },
  {
   "cell_type": "code",
   "execution_count": 33,
   "metadata": {
    "collapsed": true
   },
   "outputs": [],
   "source": [
    "y_array = np.empty(dtype = 'float', shape = [0,1])"
   ]
  },
  {
   "cell_type": "code",
   "execution_count": 34,
   "metadata": {},
   "outputs": [
    {
     "name": "stdout",
     "output_type": "stream",
     "text": [
      "0 images done\n",
      "100 images done\n",
      "200 images done\n",
      "300 images done\n",
      "400 images done\n",
      "500 images done\n",
      "600 images done\n",
      "700 images done\n",
      "800 images done\n",
      "900 images done\n",
      "1000 images done\n",
      "1100 images done\n",
      "1200 images done\n",
      "1300 images done\n",
      "1400 images done\n",
      "1500 images done\n"
     ]
    }
   ],
   "source": [
    "for i in range(153):\n",
    "    \n",
    "    if(i < 152):\n",
    "        testIndex = range(i*10,i*10+10)\n",
    "    else:\n",
    "        testIndex = range(1520,1531)\n",
    "    \n",
    "    testImage = test_images[testIndex,:,:,:]\n",
    "    \n",
    "    if(i*10 % 100 == 0):\n",
    "        print \"%d images done\"%(i*10)\n",
    "    \n",
    "    y_prob = y_out.eval(feed_dict = {x:testImage, keep_prob: 1.0})\n",
    "    \n",
    "    y_array = np.append(y_array, y_prob)"
   ]
  },
  {
   "cell_type": "code",
   "execution_count": 35,
   "metadata": {
    "collapsed": true
   },
   "outputs": [],
   "source": [
    "indices = range(1531)"
   ]
  },
  {
   "cell_type": "code",
   "execution_count": 36,
   "metadata": {
    "collapsed": true
   },
   "outputs": [],
   "source": [
    "indices = np.add(indices, 1).reshape(1531,)"
   ]
  },
  {
   "cell_type": "code",
   "execution_count": 37,
   "metadata": {
    "collapsed": true
   },
   "outputs": [],
   "source": [
    "final_out = np.append(indices.reshape(1531,1), y_array.reshape(1531,1), axis = 1)"
   ]
  },
  {
   "cell_type": "code",
   "execution_count": null,
   "metadata": {
    "collapsed": true
   },
   "outputs": [],
   "source": [
    "# np.savetxt(X=final_out,fname=\"/home/ishwar/workspace/Data/Invasive Species Monitoring/predictions.csv\",\n",
    "#            delimiter=\",\", header = \"name,invasive\", comments = '')"
   ]
  },
  {
   "cell_type": "code",
   "execution_count": 38,
   "metadata": {
    "collapsed": true
   },
   "outputs": [],
   "source": [
    "pdFrame = pd.DataFrame(data=final_out)"
   ]
  },
  {
   "cell_type": "code",
   "execution_count": 39,
   "metadata": {
    "collapsed": true
   },
   "outputs": [],
   "source": [
    "pdFrame.columns = ['name','invasive']"
   ]
  },
  {
   "cell_type": "code",
   "execution_count": 40,
   "metadata": {
    "collapsed": true
   },
   "outputs": [],
   "source": [
    "pdFrame[['name']] = pdFrame[['name']].astype('int32')"
   ]
  },
  {
   "cell_type": "code",
   "execution_count": 41,
   "metadata": {
    "collapsed": true
   },
   "outputs": [],
   "source": [
    "pdFrame.to_csv('/home/ishwar/workspace/Data/Invasive Species Monitoring/predictions.csv',index=False)"
   ]
  }
 ],
 "metadata": {
  "kernelspec": {
   "display_name": "Python 2",
   "language": "python",
   "name": "python2"
  },
  "language_info": {
   "codemirror_mode": {
    "name": "ipython",
    "version": 2
   },
   "file_extension": ".py",
   "mimetype": "text/x-python",
   "name": "python",
   "nbconvert_exporter": "python",
   "pygments_lexer": "ipython2",
   "version": "2.7.13"
  }
 },
 "nbformat": 4,
 "nbformat_minor": 2
}
